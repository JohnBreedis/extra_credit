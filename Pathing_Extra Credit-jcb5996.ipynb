{
 "cells": [
  {
   "cell_type": "code",
   "execution_count": 1,
   "metadata": {},
   "outputs": [],
   "source": [
    "import random  #used to generate random mapping"
   ]
  },
  {
   "cell_type": "markdown",
   "metadata": {},
   "source": [
    "<h3>Create random nxn map:"
   ]
  },
  {
   "cell_type": "code",
   "execution_count": 7,
   "metadata": {},
   "outputs": [
    {
     "name": "stdout",
     "output_type": "stream",
     "text": [
      "[2, 17, 9, 9, 12]\n",
      "[1, 13, 11, 13, 5]\n",
      "[17, 17, 6, 7, 6]\n",
      "[7, 8, 12, 11, 3]\n",
      "[4, 15, 10, 7, 6]\n"
     ]
    }
   ],
   "source": [
    "def createMap(n, Max=20):  #let's set the max value of a tile to be 20 by default\n",
    "    return [[random.randint(1,Max) for j in range(n)] for i in range(n)]\n",
    "\n",
    "def printMap(Map):\n",
    "    for row in Map:\n",
    "        print(row)\n",
    "\n",
    "m = createMap(5)\n",
    "printMap(m)"
   ]
  },
  {
   "cell_type": "markdown",
   "metadata": {},
   "source": [
    "<h3>Find the number of total paths:"
   ]
  },
  {
   "cell_type": "code",
   "execution_count": 22,
   "metadata": {},
   "outputs": [
    {
     "name": "stdout",
     "output_type": "stream",
     "text": [
      "[15, 11]\n",
      "[17, 5]\n",
      "# of paths: 2\n",
      "\n",
      "[13, 10, 4]\n",
      "[20, 14, 15]\n",
      "[20, 15, 6]\n",
      "# of paths: 6\n",
      "\n",
      "[15, 7, 11, 13]\n",
      "[4, 10, 10, 12]\n",
      "[9, 19, 9, 3]\n",
      "[11, 12, 18, 15]\n",
      "# of paths: 20\n",
      "\n",
      "[11, 15, 13, 14, 8]\n",
      "[10, 14, 20, 5, 2]\n",
      "[5, 7, 12, 16, 5]\n",
      "[5, 15, 1, 16, 1]\n",
      "[10, 16, 20, 8, 8]\n",
      "# of paths: 70\n"
     ]
    }
   ],
   "source": [
    "def numPaths(Map, i=0, j=0):\n",
    "    n = len(Map)\n",
    "    count = 1  #defaults to 1 path\n",
    "    if i<n-1 and j<n-1:\n",
    "        count = 2 #if it can split, set # of paths to 2 (adds another path from split)\n",
    "    \n",
    "    if i<n-1:  #only moves down if possible\n",
    "        count = count + numPaths(Map, i=i+1, j=j)-1  #adds recursively (the -1 is to account for continuing paths)\n",
    "    if j<n-1:\n",
    "        count = count + numPaths(Map, i=i, j=j+1)-1\n",
    "    return count\n",
    "\n",
    "m = createMap(2) #print 2x2 map\n",
    "printMap(m)\n",
    "print(\"# of paths: \"+str(numPaths(m)))\n",
    "print()\n",
    "\n",
    "m = createMap(3) #print 3x3 map\n",
    "printMap(m)\n",
    "print(\"# of paths: \"+str(numPaths(m)))\n",
    "print()\n",
    "\n",
    "m = createMap(4) #print 4x4 map\n",
    "printMap(m)\n",
    "print(\"# of paths: \"+str(numPaths(m)))\n",
    "print()\n",
    "\n",
    "m = createMap(5) #print 5x5 map\n",
    "printMap(m)\n",
    "print(\"# of paths: \"+str(numPaths(m)))\n",
    "\n",
    "#By observation, for nxn mapping the # of paths is 2(n-1)C(n-1)"
   ]
  },
  {
   "cell_type": "markdown",
   "metadata": {},
   "source": [
    "<h3>Find the maximum value of path:"
   ]
  },
  {
   "cell_type": "code",
   "execution_count": 23,
   "metadata": {},
   "outputs": [
    {
     "name": "stdout",
     "output_type": "stream",
     "text": [
      "[18, 1]\n",
      "[16, 3]\n",
      "Max sum: 37\n",
      "\n",
      "[6, 12, 13]\n",
      "[8, 13, 2]\n",
      "[13, 15, 3]\n",
      "Max sum: 49\n",
      "\n",
      "[8, 8, 12, 2]\n",
      "[3, 17, 7, 17]\n",
      "[4, 9, 10, 8]\n",
      "[19, 3, 11, 19]\n",
      "Max sum: 84\n",
      "\n",
      "[6, 4, 14, 18, 9]\n",
      "[13, 6, 10, 3, 11]\n",
      "[7, 2, 13, 16, 6]\n",
      "[5, 6, 20, 18, 3]\n",
      "[5, 3, 16, 11, 2]\n",
      "Max sum: 99\n"
     ]
    }
   ],
   "source": [
    "def maxPath(Map, i=0, j=0):\n",
    "    n = len(Map)\n",
    "    val = Map[i][j]\n",
    "    \n",
    "    if i<n-1:  #only moves down if possible\n",
    "        val = Map[i][j] + maxPath(Map, i=i+1, j=j)  #adds recursively\n",
    "    if j<n-1:\n",
    "        val = max(val, Map[i][j] + maxPath(Map, i=i, j=j+1))  #if multiple paths are possible,\n",
    "                                                        #this chooses the greatest combined value\n",
    "    return val\n",
    "\n",
    "m = createMap(2) #print 2x2 map\n",
    "printMap(m)\n",
    "print(\"Max sum: \"+str(maxPath(m)))\n",
    "print()\n",
    "\n",
    "m = createMap(3) #print 3x3 map\n",
    "printMap(m)\n",
    "print(\"Max sum: \"+str(maxPath(m)))\n",
    "print()\n",
    "\n",
    "m = createMap(4) #print 4x4 map\n",
    "printMap(m)\n",
    "print(\"Max sum: \"+str(maxPath(m)))\n",
    "print()\n",
    "\n",
    "m = createMap(5) #print 5x5 map\n",
    "printMap(m)\n",
    "print(\"Max sum: \"+str(maxPath(m)))\n",
    "\n",
    "#Note: this might be optimized by considering the sum of the remaining row vs. column (counting backwards) and choosing the\n",
    "    #  greater of the two (of course it would be more sophisticated than that, but it's an idea)"
   ]
  }
 ],
 "metadata": {
  "kernelspec": {
   "display_name": "Python 3",
   "language": "python",
   "name": "python3"
  },
  "language_info": {
   "codemirror_mode": {
    "name": "ipython",
    "version": 3
   },
   "file_extension": ".py",
   "mimetype": "text/x-python",
   "name": "python",
   "nbconvert_exporter": "python",
   "pygments_lexer": "ipython3",
   "version": "3.7.3"
  }
 },
 "nbformat": 4,
 "nbformat_minor": 2
}
